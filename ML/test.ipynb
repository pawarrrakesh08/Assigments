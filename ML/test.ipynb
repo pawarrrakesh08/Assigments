{
 "cells": [
  {
   "cell_type": "code",
   "execution_count": 1,
   "metadata": {},
   "outputs": [
    {
     "name": "stderr",
     "output_type": "stream",
     "text": [
      "c:\\ProgramData\\Anaconda3\\lib\\site-packages\\scipy\\__init__.py:146: UserWarning: A NumPy version >=1.16.5 and <1.23.0 is required for this version of SciPy (detected version 1.26.2\n",
      "  warnings.warn(f\"A NumPy version >={np_minversion} and <{np_maxversion}\"\n"
     ]
    }
   ],
   "source": [
    "from sklearn.datasets import fetch_openml\n",
    "from sklearn.model_selection import train_test_split, GridSearchCV\n",
    "from sklearn.preprocessing import StandardScaler\n",
    "from sklearn.svm import SVC\n",
    "from sklearn.metrics import classification_report,accuracy_score\n",
    "\n",
    "# Load MNIST dataset (this might take a while the first time)\n",
    "mnist = fetch_openml('mnist_784', version=1)\n",
    "X, y = mnist.data / 255., mnist.target.astype(int)\n",
    "\n",
    "# Split dataset into training and test sets\n",
    "X_train, X_test, y_train, y_test = train_test_split(X, y, test_size=0.2, random_state=42)\n",
    "\n",
    "# Split training set further into training and validation sets\n",
    "X_train, X_val, y_train, y_val = train_test_split(X_train, y_train, test_size=0.2, random_state=42)\n",
    "\n",
    "# Feature scaling (optional but recommended for SVMs)\n",
    "scaler = StandardScaler()\n",
    "X_train_scaled = scaler.fit_transform(X_train)\n",
    "X_val_scaled = scaler.transform(X_val)\n",
    "X_test_scaled = scaler.transform(X_test)\n",
    "# Define SVM classifier (using RBF kernel as an example)\n",
    "svm_clf = SVC(kernel='rbf', decision_function_shape='ovr', random_state=42)\n",
    "# Hyperparameter tuning using cross-validation on the training set\n",
    "param_grid = {'C': [1, 10, 100], 'gamma': [0.01, 0.1, 1.0]}\n",
    "grid_search = GridSearchCV(svm_clf, param_grid, cv=3, scoring='accuracy', verbose=2)\n",
    "grid_search.fit(X_train_scaled, y_train)\n",
    "# Get the best hyperparameters\n",
    "best_params = grid_search.best_params_\n",
    "# Train SVM classifier with best hyperparameters on the full training set\n",
    "best_svm_clf = SVC(kernel='rbf', decision_function_shape='ovr', **best_params, random_state=42)\n",
    "best_svm_clf.fit(X_train_scaled, y_train)\n",
    "# Evaluate on the validation set\n",
    "y_val_pred = best_svm_clf.predict(X_val_scaled)\n",
    "val_accuracy = accuracy_score(y_val, y_val_pred)\n",
    "print(f\"Validation Accuracy: {val_accuracy:.4f}\")\n",
    "# Evaluate on the test set\n",
    "y_test_pred = best_svm_clf.predict(X_test_scaled)\n",
    "test_accuracy = accuracy_score(y_test, y_test_pred)\n",
    "print(f\"Test Accuracy: {test_accuracy:.4f}\")\n",
    "# Print classification report for test set\n",
    "print(classification_report(y_test, y_test_pred))\n"
   ]
  },
  {
   "cell_type": "code",
   "execution_count": 1,
   "metadata": {},
   "outputs": [
    {
     "name": "stdout",
     "output_type": "stream",
     "text": [
      "Mean Squared Error (MSE): 0.3570\n",
      "R-squared Score: 0.7276\n"
     ]
    }
   ],
   "source": [
    "from sklearn.datasets import fetch_california_housing\n",
    "from sklearn.model_selection import train_test_split, GridSearchCV\n",
    "from sklearn.preprocessing import StandardScaler\n",
    "from sklearn.svm import SVR\n",
    "from sklearn.metrics import mean_squared_error, r2_score\n",
    "\n",
    "# Load California housing dataset\n",
    "california_housing = fetch_california_housing()\n",
    "\n",
    "# Split dataset into training and test sets\n",
    "X = california_housing.data\n",
    "y = california_housing.target\n",
    "X_train, X_test, y_train, y_test = train_test_split(X, y, test_size=0.2, random_state=42)\n",
    "\n",
    "# Feature scaling\n",
    "scaler = StandardScaler()\n",
    "X_train_scaled = scaler.fit_transform(X_train)\n",
    "X_test_scaled = scaler.transform(X_test)\n",
    "\n",
    "# Train SVM regressor (SVR) - example with RBF kernel\n",
    "svm_regressor = SVR(kernel='rbf')\n",
    "svm_regressor.fit(X_train_scaled, y_train)\n",
    "\n",
    "# Predict on test set\n",
    "y_pred = svm_regressor.predict(X_test_scaled)\n",
    "\n",
    "# Evaluate the model\n",
    "mse = mean_squared_error(y_test, y_pred)\n",
    "r2 = r2_score(y_test, y_pred)\n",
    "print(f\"Mean Squared Error (MSE): {mse:.4f}\")\n",
    "print(f\"R-squared Score: {r2:.4f}\")\n",
    "\n",
    "# Optionally, perform hyperparameter tuning\n",
    "# param_grid = {'C': [1, 10, 100], 'gamma': [0.01, 0.1, 1.0]}\n",
    "# grid_search = GridSearchCV(svm_regressor, param_grid, cv=5, scoring='neg_mean_squared_error')\n",
    "# grid_search.fit(X_train_scaled, y_train)\n",
    "# best_params = grid_search.best_params_\n",
    "# best_svm_regressor = SVR(kernel='rbf', **best_params)\n",
    "# best_svm_regressor.fit(X_train_scaled, y_train)\n",
    "# y_pred_tuned = best_svm_regressor.predict(X_test_scaled)\n",
    "# mse_tuned = mean_squared_error(y_test, y_pred_tuned)\n",
    "# r2_tuned = r2_score(y_test, y_pred_tuned)\n",
    "# print(f\"Tuned Model - Mean Squared Error (MSE): {mse_tuned:.4f}\")\n",
    "# print(f\"Tuned Model - R-squared Score: {r2_tuned:.4f}\")\n"
   ]
  },
  {
   "cell_type": "code",
   "execution_count": null,
   "metadata": {},
   "outputs": [],
   "source": []
  }
 ],
 "metadata": {
  "kernelspec": {
   "display_name": "dailykpi",
   "language": "python",
   "name": "python3"
  },
  "language_info": {
   "codemirror_mode": {
    "name": "ipython",
    "version": 3
   },
   "file_extension": ".py",
   "mimetype": "text/x-python",
   "name": "python",
   "nbconvert_exporter": "python",
   "pygments_lexer": "ipython3",
   "version": "3.9.12"
  }
 },
 "nbformat": 4,
 "nbformat_minor": 2
}
